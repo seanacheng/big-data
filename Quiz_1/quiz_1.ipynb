{
  "nbformat": 4,
  "nbformat_minor": 0,
  "metadata": {
    "colab": {
      "provenance": []
    },
    "kernelspec": {
      "name": "python3",
      "display_name": "Python 3"
    },
    "language_info": {
      "name": "python"
    }
  },
  "cells": [
    {
      "cell_type": "code",
      "source": [
        "from google.colab import drive\n",
        "drive.mount('/content/drive', force_remount=True)\n",
        "!apt-get install texlive texlive-xetex texlive-latex-extra pandoc > /content/drive/MyDrive/installs.txt\n",
        "!pip install pypandoc > /content/drive/MyDrive/pandoc_installs.txt"
      ],
      "metadata": {
        "id": "Aw5bWU93zCmH"
      },
      "execution_count": null,
      "outputs": []
    },
    {
      "cell_type": "code",
      "source": [
        "import requests\n",
        "from bs4 import BeautifulSoup\n",
        "\n",
        "# Site to begin scraping\n",
        "wiki_url = \"https://aliceinwonderland.fandom.com/wiki/Alice_in_Wonderland_Wiki\"\n",
        "\n",
        "# Scrape start page into tree\n",
        "wiki_page = requests.get(wiki_url)\n",
        "wiki_soup = BeautifulSoup(wiki_page.content, \"html.parser\")"
      ],
      "metadata": {
        "id": "AgLGMaNHzemU"
      },
      "execution_count": 35,
      "outputs": []
    },
    {
      "cell_type": "markdown",
      "source": [
        "1. Books"
      ],
      "metadata": {
        "id": "GRNASJaKzFsZ"
      }
    },
    {
      "cell_type": "code",
      "source": [
        "def books():\n",
        "  dropdown_menu = wiki_soup.find_all('li', class_=\"wds-dropdown\")\n",
        "  for dropdown in dropdown_menu:\n",
        "    if (dropdown.find('a', {\n",
        "        'data-tracking': 'custom-level-1'\n",
        "    }).find('span').text == 'Literature'):\n",
        "      for literature in dropdown.find_all('li', class_=\"wds-dropdown-level-nested\"):\n",
        "        if (literature.find('a', {\n",
        "            'class': 'wds-dropdown-level-nested__toggle',\n",
        "            'data-tracking': 'custom-level-2'\n",
        "        }).find('span').text == 'Canon books'):\n",
        "          books = literature.find_all('a', {\n",
        "                'data-tracking': 'custom-level-3'\n",
        "            })\n",
        "          book_names = []\n",
        "          for book in books:\n",
        "            book_names.append(book.find('span').text)\n",
        "          return book_names"
      ],
      "metadata": {
        "id": "fsQi1jnC3k6U"
      },
      "execution_count": 36,
      "outputs": []
    },
    {
      "cell_type": "code",
      "source": [
        "books()"
      ],
      "metadata": {
        "colab": {
          "base_uri": "https://localhost:8080/",
          "height": 0
        },
        "id": "2mBciz_3TMh1",
        "outputId": "e8fc6f50-900c-44e0-8317-5310454f3bee"
      },
      "execution_count": 37,
      "outputs": [
        {
          "output_type": "execute_result",
          "data": {
            "text/plain": [
              "[\"Alice's Adventures in Wonderland\",\n",
              " 'Through the Looking-Glass, and What Alice Found There',\n",
              " \"Alice's Adventures Underground\"]"
            ]
          },
          "metadata": {},
          "execution_count": 37
        }
      ]
    },
    {
      "cell_type": "markdown",
      "source": [
        "2. Poems"
      ],
      "metadata": {
        "id": "8CCl4ACRBnPM"
      }
    },
    {
      "cell_type": "code",
      "source": [
        "def poems():\n",
        "  dropdown_menu = wiki_soup.find_all('li', class_=\"wds-dropdown\")\n",
        "  for dropdown in dropdown_menu:\n",
        "    if (dropdown.find('a', {\n",
        "        'data-tracking': 'custom-level-1'\n",
        "    }).find('span').text == 'Literature'):\n",
        "      for literature in dropdown.find_all('li', class_=\"wds-dropdown-level-nested\"):\n",
        "        if (literature.find('a', {\n",
        "            'class': 'wds-dropdown-level-nested__toggle',\n",
        "            'data-tracking': 'custom-level-2'\n",
        "        }).find('span').text == 'Canon poems'):\n",
        "          poems = literature.find_all('a', {\n",
        "                'data-tracking': 'custom-level-3'\n",
        "            })\n",
        "          poem_names = []\n",
        "          for poem in poems:\n",
        "            poem_names.append((poem.find('span').text, poem['href']))\n",
        "          return poem_names"
      ],
      "metadata": {
        "id": "PQDZI0sTBpLc"
      },
      "execution_count": 38,
      "outputs": []
    },
    {
      "cell_type": "code",
      "source": [
        "poems()"
      ],
      "metadata": {
        "colab": {
          "base_uri": "https://localhost:8080/",
          "height": 0
        },
        "id": "vpu13QQpUSDR",
        "outputId": "43a9fd6b-55fc-47a9-e161-490f1af7ab60"
      },
      "execution_count": 39,
      "outputs": [
        {
          "output_type": "execute_result",
          "data": {
            "text/plain": [
              "[('Jabberwocky', 'https://aliceinwonderland.fandom.com/wiki/Jabberwocky'),\n",
              " ('How Doth the Little Crocodile',\n",
              "  'https://aliceinwonderland.fandom.com/wiki/How_Doth_the_Little_Crocodile'),\n",
              " ('The Walrus and the Carpenter',\n",
              "  'https://aliceinwonderland.fandom.com/wiki/The_Walrus_and_the_Carpenter_(poem)'),\n",
              " ('You Are Old, Father William',\n",
              "  'https://aliceinwonderland.fandom.com/wiki/You_Are_Old,_Father_William'),\n",
              " (\"Humpty Dumpty's Recitation\",\n",
              "  'https://aliceinwonderland.fandom.com/wiki/Humpty_Dumpty%27s_Recitation'),\n",
              " ('Turtle Soup', 'https://aliceinwonderland.fandom.com/wiki/Turtle_Soup'),\n",
              " ('Tis the Voice of the Lobster',\n",
              "  'https://aliceinwonderland.fandom.com/wiki/Tis_the_Voice_of_the_Lobster')]"
            ]
          },
          "metadata": {},
          "execution_count": 39
        }
      ]
    },
    {
      "cell_type": "markdown",
      "source": [
        "3. Poem title and text"
      ],
      "metadata": {
        "id": "-O8h2zZPRfnl"
      }
    },
    {
      "cell_type": "code",
      "source": [
        "def poem_title_text(n):\n",
        "  poem_url = poems()[n][1]\n",
        "\n",
        "  poem_page = requests.get(poem_url)\n",
        "  wiki_soup = BeautifulSoup(poem_page.content, \"html.parser\")\n",
        "\n",
        "  poem_title = wiki_soup.find('h1').text.strip()\n",
        "\n",
        "  poem_text = \"\"\n",
        "  poem_lines = wiki_soup.find('div', class_='mw-parser-output').find('h2').find_next_siblings()\n",
        "  for paragraph in poem_lines:\n",
        "    poem_text += paragraph.text.replace(\"\\n\", \" \")\n",
        "\n",
        "  return(poem_title, poem_text)"
      ],
      "metadata": {
        "id": "3_PhbgndRetz"
      },
      "execution_count": 42,
      "outputs": []
    },
    {
      "cell_type": "code",
      "source": [
        "poem_title_text(2)"
      ],
      "metadata": {
        "colab": {
          "base_uri": "https://localhost:8080/",
          "height": 0
        },
        "id": "lTbVXLNJs1Zc",
        "outputId": "98cd9e84-11fd-4903-bc13-d109d84e523a"
      },
      "execution_count": 43,
      "outputs": [
        {
          "output_type": "execute_result",
          "data": {
            "text/plain": [
              "('The Walrus and the Carpenter (poem)',\n",
              " 'The sun was shining on the sea, Shining with all his might: He did his very best to make The billows smooth and bright-- And this was odd, because it was The middle of the night. The moon was shining sulkily, Because she thought the sun Had got no business to be there After the day was done-- \"It\\'s very rude of him,\" she said, \"To come and spoil the fun!\" The sea was wet as wet could be, The sands were dry as dry. You could not see a cloud, because No cloud was in the sky: No birds were flying overhead-- There were no birds to fly. The Walrus and the Carpenter Were walking close at hand; They wept like anything to see Such quantities of sand: \"If this were only cleared away,\" They said, \"it would be grand!\" \"If seven maids with seven mops Swept it for half a year. Do you suppose,\" the Walrus said, \"That they could get it clear?\" \"I doubt it,\" said the Carpenter, And shed a bitter tear. \"O Oysters, come and walk with us!\" The Walrus did beseech. \"A pleasant walk, a pleasant talk, Along the briny beach: We cannot do with more than four, To give a hand to each.\" The eldest Oyster looked at him, But never a word he said: The eldest Oyster winked his eye, And shook his heavy head-- Meaning to say he did not choose To leave the oyster-bed. But four young Oysters hurried up, All eager for the treat: Their coats were brushed, their faces washed, Their shoes were clean and neat-- And this was odd, because, you know, They hadn\\'t any feet. Four other Oysters followed them, And yet another four; And thick and fast they came at last, And more, and more, and more-- All hopping through the frothy waves, And scrambling to the shore. The Walrus and the Carpenter Walked on a mile or so, And then they rested on a rock Conveniently low: And all the little Oysters stood And waited in a row. \"The time has come,\" the Walrus said, \"To talk of many things: Of shoes--and ships--and sealing-wax-- Of cabbages--and kings-- And why the sea is boiling hot-- And whether pigs have wings.\" \"But wait a bit,\" the Oysters cried, \"Before we have our chat; For some of us are out of breath, And all of us are fat!\" \"No hurry!\" said the Carpenter. They thanked him much for that. \"A loaf of bread,\" the Walrus said, \"Is what we chiefly need: Pepper and vinegar besides Are very good indeed-- Now if you\\'re ready, Oysters dear, We can begin to feed.\" \"But not on us!\" the Oysters cried, Turning a little blue. \"After such kindness, that would be A dismal thing to do!\" \"The night is fine,\" the Walrus said. \"Do you admire the view? \"It was so kind of you to come! And you are very nice!\" The Carpenter said nothing but \"Cut us another slice: I wish you were not quite so deaf-- I\\'ve had to ask you twice!\" \"It seems a shame,\" the Walrus said, \"To play them such a trick, After we\\'ve brought them out so far, And made them trot so quick!\" The Carpenter said nothing but \"The butter\\'s spread too thick!\" \"I weep for you,\" the Walrus said: \"I deeply sympathize.\" With sobs and tears he sorted out Those of the largest size, Holding his pocket-handkerchief Before his streaming eyes. \"O Oysters,\" said the Carpenter, \"You\\'ve had a pleasant run! Shall we be trotting home again?\\' But answer came there none-- And this was scarcely odd, because They\\'d eaten every one. ')"
            ]
          },
          "metadata": {},
          "execution_count": 43
        }
      ]
    },
    {
      "cell_type": "code",
      "source": [
        "poem_title_text(5)"
      ],
      "metadata": {
        "colab": {
          "base_uri": "https://localhost:8080/",
          "height": 0
        },
        "id": "SpkQP09Rt1sG",
        "outputId": "96efaa2f-14d4-465a-c7e0-363ccfeedd41"
      },
      "execution_count": 44,
      "outputs": [
        {
          "output_type": "execute_result",
          "data": {
            "text/plain": [
              "('Turtle Soup',\n",
              " 'Beautiful Soup, so rich and green, Waiting in a hot tureen! Who for such dainties would not stoop? Soup of the evening, beautiful Soup! Soup of the evening, beautiful Soup! Beau--ootiful Soo--oop! Beau--ootiful Soo--oop! Soo--oop of the e--e--evening, Beautiful, beautiful Soup! Beautiful Soup! Who cares for fish, Game or any other dish? Who would not give all else for two Pennyworth only of Beautiful Soup? Pennyworth only of beautiful Soup? Beau--ootiful Soo--oop! Beau--ootiful Soo--oop! Soo--oop of the e--e--evening, Beautiful, beauti--FUL SOUP! ')"
            ]
          },
          "metadata": {},
          "execution_count": 44
        }
      ]
    },
    {
      "cell_type": "code",
      "source": [
        "!cp \"./drive/My Drive/\" ./quiz_1.ipynb\n",
        "!jupyter nbconvert --to PDF \"quiz_1.ipynb\""
      ],
      "metadata": {
        "id": "-lHzccB7wGz8"
      },
      "execution_count": null,
      "outputs": []
    }
  ]
}